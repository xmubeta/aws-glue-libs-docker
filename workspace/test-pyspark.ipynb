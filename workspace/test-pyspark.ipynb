{
 "cells": [
  {
   "cell_type": "code",
   "execution_count": null,
   "id": "57626956-6fbb-4471-9758-30c4d78095de",
   "metadata": {},
   "outputs": [],
   "source": [
    "\n",
    "from awsglue.context import GlueContext\n",
    "from pyspark import SparkConf, SparkContext\n",
    "\n",
    "\n",
    "sc = SparkContext.getOrCreate()\n",
    "sc.setLogLevel('DEBUG')\n",
    "glueContext = GlueContext(sc)\n",
    "\n",
    "\n",
    "df = glueContext.create_dynamic_frame.from_options(\"s3\", {'paths': [\"s3://<bucket>/100gb-dist/date_dim/\"]}, format=\"csv\")\n",
    "\n",
    "df.toDF().show(10)    "
   ]
  }
 ],
 "metadata": {
  "kernelspec": {
   "display_name": "Glue Spark - Local (PySpark)",
   "language": "python",
   "name": "pysparkkernel"
  },
  "language_info": {
   "codemirror_mode": {
    "name": "python",
    "version": 3
   },
   "file_extension": ".py",
   "mimetype": "text/x-python",
   "name": "pyspark",
   "pygments_lexer": "python3"
  }
 },
 "nbformat": 4,
 "nbformat_minor": 5
}
